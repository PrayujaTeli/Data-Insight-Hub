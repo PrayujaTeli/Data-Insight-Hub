import pandas as pd
import numpy as np
import random

dfSuicide = pd.read_csv(r'DrugAddiction.csv')
