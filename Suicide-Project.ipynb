{
 "cells": [
  {
   "cell_type": "code",
   "execution_count": 1,
   "id": "0af5cc71",
   "metadata": {},
   "outputs": [
    {
     "name": "stdout",
     "output_type": "stream",
     "text": [
      "The data sets are present in D:\\Drexel MSDS\\DSCI 511 Project\\\n"
     ]
    }
   ],
   "source": [
    "# mention the directory where the data sets are present\n",
    "\n",
    "dir_path = \"D:\\\\Drexel MSDS\\\\DSCI 511 Project\\\\\"\n",
    "print(\"The data sets are present in \" + dir_path)"
   ]
  },
  {
   "cell_type": "code",
   "execution_count": 2,
   "id": "b93f351b",
   "metadata": {
    "scrolled": false
   }
  }
 ]
}
