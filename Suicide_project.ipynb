{
 "cells": [
  {
   "cell_type": "code",
   "execution_count": null,
   "id": "0af5cc71",
   "metadata": {},
   "outputs": [],
   "source": [
    "# mention the directory where the data sets are present\n",
    "\n",
    "dir_path = \"Your Path\"\n",
    "print(\"The data sets are present in \" + dir_path)"
   ]
  },
  {
   "cell_type": "code",
   "execution_count": null,
   "id": "b93f351b",
   "metadata": {
    "scrolled": false
   },
   "outputs": [],
   "source": [
    "# Importing Suicide data set\n",
    "\n",
    "import pandas as pd\n",
    "import numpy as np\n",
    "import random\n",
    "\n",
    "# Make sure to use raw string or escape backslashes in the file path\n",
    "dfSuicide = pd.read_csv(r'DrugAddiction.csv')\n"
   ]
  },
  {
   "cell_type": "code",
   "execution_count": null,
   "id": "8af5c304",
   "metadata": {},
   "outputs": [],
   "source": [
    "#processing suicide data set\n",
    "\n",
    "dfSuicideFiltered = dfSuicide.iloc[2: , :]\n",
    "dfSuicideFiltered.reset_index(drop=True, inplace=True)\n",
    "print(dfSuicideFiltered)"
   ]
  },
  {
   "cell_type": "code",
   "execution_count": null,
   "id": "c944e76b",
   "metadata": {},
   "outputs": [],
   "source": [
    "#pd.options.display.float_format = '{:,.3f}'.format"
   ]
  },
  {
   "cell_type": "code",
   "execution_count": null,
   "id": "cb37ca9b",
   "metadata": {},
   "outputs": [],
   "source": [
    "# Importing Population data set\n",
    "\n",
    "dfPopulation = pd.read_csv(r\"Population.csv\")\n",
    "print(dfPopulation)"
   ]
  },
  {
   "cell_type": "code",
   "execution_count": null,
   "id": "065b9661",
   "metadata": {},
   "outputs": [],
   "source": [
    "#performing pre processing on dataset\n",
    "\n",
    "dfPopulationFiltered = dfPopulation\n",
    "#computing the values for population in 2019 using growth rate and population in 2020\n",
    "dfPopulationFiltered['pop2019'] =  (dfPopulationFiltered.pop2020 - (dfPopulationFiltered.pop2020 **dfPopulationFiltered.GrowthRate/100))\n",
    "dfPopulationFiltered.drop([\"pop2022\",\"pop2021\",\"pop2020\",\"pop2050\",\"pop2030\",\"pop2015\",\"pop2010\",\"pop2000\",\"pop1990\",\"pop1980\",\"pop1970\",\"area\",\"landAreaKm\",\"density\",\"GrowthRate\",\"WorldPercentage\",\"rank\"],axis = 1, inplace=True)\n",
    "dfPopulationFiltered.columns = [\"Abbrievation\",\"Country\",\"Population (2019)\"]\n",
    "\n",
    "print(dfPopulationFiltered)"
   ]
  },
  {
   "cell_type": "code",
   "execution_count": null,
   "id": "ed0f51c2",
   "metadata": {},
   "outputs": [],
   "source": [
    "# Importing Human Resources Data Set\n",
    "\n",
    "from pprint import pprint\n",
    "filename1 = r\"Human Resourses Data.csv\"\n",
    "dfHumanresoursesdata = pd.read_csv(filename1, header = 0)\n",
    "percentage = 0\n",
    "\n",
    "temp=0\n",
    "k = 0\n",
    "r=dfHumanresoursesdata.shape[0]\n",
    "dfHumanresoursesdata['year_diff'] = dfHumanresoursesdata['Year'] \n",
    "\n",
    "for i in dfHumanresoursesdata['Country']:\n",
    "    year=dfHumanresoursesdata['Year']#.astype(int)\n",
    "\n",
    "    temp=2019-(year[k])\n",
    "    dfHumanresoursesdata.at[k,'year_diff']=temp\n",
    "    percentage = random.randint(-3, 9)\n",
    "    j=0\n",
    "    if(k==r):\n",
    "        break\n",
    "    else:\n",
    "        k=k+1\n",
    "        dfHumanresoursesdata['New_Psychiatrist_count_2019']=dfHumanresoursesdata['Psychiatrists working in mental health sector (per 100 000 population)']\n",
    "        dfHumanresoursesdata['New_Nurses_count_2019']=dfHumanresoursesdata['Nurses working in mental health sector (per 100 000 population)']\n",
    "        dfHumanresoursesdata['New_Social workers_count_2019']=dfHumanresoursesdata['Social workers working in mental health sector (per 100 000 population)']\n",
    "        dfHumanresoursesdata['New_Psychologists_count_2019']=dfHumanresoursesdata['Psychologists working in mental health sector (per 100 000 population)']\n",
    "    \n",
    "        #we are calculating statistics for 2019 using data from other columns\n",
    "        #percentage increase is assumed to range between -3 and 9\n",
    "        #we are including a negative range to take into account that certain countries may show decline in growth\n",
    "    \n",
    "        while j!=temp:\n",
    "\n",
    "            dfHumanresoursesdata['New_Psychiatrist_count_2019']=dfHumanresoursesdata['New_Psychiatrist_count_2019']+(dfHumanresoursesdata['New_Psychiatrist_count_2019']*(percentage/100))\n",
    "            dfHumanresoursesdata['New_Nurses_count_2019']=dfHumanresoursesdata['New_Nurses_count_2019']+(dfHumanresoursesdata['New_Nurses_count_2019']*(percentage/100))\n",
    "            dfHumanresoursesdata['New_Social workers_count_2019']=dfHumanresoursesdata['New_Social workers_count_2019']+(dfHumanresoursesdata['New_Social workers_count_2019']*(percentage/100))\n",
    "            dfHumanresoursesdata['New_Psychologists_count_2019']=dfHumanresoursesdata['New_Psychologists_count_2019']+(dfHumanresoursesdata['New_Psychologists_count_2019']*(percentage/100))\n",
    "            j=j+1\n",
    "\n",
    "dfHumanresoursesdata.reset_index(drop=True, inplace=True)\n",
    "pprint(dfHumanresoursesdata)"
   ]
  },
  {
   "cell_type": "code",
   "execution_count": null,
   "id": "d2645d06",
   "metadata": {},
   "outputs": [],
   "source": [
    "#dropping columns from Humanresoursesdata data set\n",
    "\n",
    "dfHumanresoursesdataFiltered = dfHumanresoursesdata.drop(dfHumanresoursesdata.columns[[1,2,3,4,5,6]], axis=1)\n",
    "print(dfHumanresoursesdataFiltered)"
   ]
  },
  {
   "cell_type": "code",
   "execution_count": null,
   "id": "b3d4ea92",
   "metadata": {},
   "outputs": [],
   "source": [
    "# importing Happiness Index Code\n",
    "\n",
    "import pandas as pd\n",
    "filename = r\"Happiness Index.csv\"\n",
    "dfHappinessindex = pd.read_csv(filename, header = 0)\n",
    "\n",
    "#The happiness2019 is calculated by considering the scoreDifference between the year 2021 and 2020. Here we are assuming that the value difference between 2020 and 2019 follows the same pattern.\n",
    "dfHappinessindex['happiness2019']=dfHappinessindex['happiness2020']-dfHappinessindex['scoreDifference'] \n",
    "dfHappinessindex.reset_index(drop=True, inplace=True)\n",
    "print(dfHappinessindex)"
   ]
  },
  {
   "cell_type": "code",
   "execution_count": null,
   "id": "a4deb745",
   "metadata": {},
   "outputs": [],
   "source": [
    "#dropping cols from Happiness index\n",
    "\n",
    "dfHappinessindexFiltered = dfHappinessindex.drop(dfHappinessindex.columns[[2,3,4]], axis=1)\n",
    "dfHappinessindexFiltered.columns = [\"Happiness Rank\",\"Country\",\"Happiness index\"]\n",
    "\n",
    "print(dfHappinessindexFiltered)"
   ]
  },
  {
   "cell_type": "code",
   "execution_count": null,
   "id": "44871739",
   "metadata": {},
   "outputs": [],
   "source": [
    "# Importing Literacy Rate data set\n",
    "\n",
    "import pandas as pd\n",
    "\n",
    "dfLiteracy = pd.read_csv(r\"Literacy Rate.csv\")\n",
    "dfLiteracy['Year_2019'] = dfLiteracy['dataYear'] \n",
    "r=dfLiteracy.shape[0]\n",
    "k=0\n",
    "percentage = 0\n",
    "\n",
    "for i in dfLiteracy['country']:\n",
    "    year=dfLiteracy['dataYear']#.astype(int)\n",
    "\n",
    "    percentage = random.randint(-3, 9)\n",
    "    temp=(2019-(year[k]))\n",
    "    dfLiteracy.at[k,'Year_2019']=int(dfLiteracy.iloc[k,2] + temp)\n",
    "    #print(temp)\n",
    "    j=0\n",
    "    if(k==r):\n",
    "        break\n",
    "    else:\n",
    "        k=k+1\n",
    "        dfLiteracy['latestRate_2019']=dfLiteracy['latestRate']\n",
    "        while j!=temp:\n",
    "\n",
    "        #we are calculating statistics for 2019 using data from other columns\n",
    "        #percentage increase is assumed to range between -3 and 9\n",
    "        #we are including a negative range to take into account that certain countries may show decline in growth\n",
    "        \n",
    "            dfLiteracy['latestRate_2019']=dfLiteracy['latestRate_2019']+(dfLiteracy['latestRate_2019']*(percentage/100))\n",
    "            j=j+1\n",
    "\n",
    "print(dfLiteracy)"
   ]
  },
  {
   "cell_type": "code",
   "execution_count": null,
   "id": "7b33ce1f",
   "metadata": {},
   "outputs": [],
   "source": [
    "#dropping cols and filtering literacy dataset\n",
    "\n",
    "dfLiteracyFiltered = dfLiteracy\n",
    "dfLiteracyFiltered = dfLiteracyFiltered.drop(dfLiteracyFiltered.columns[[1,2,3,4]], axis=1)\n",
    "dfLiteracyFiltered.columns = [\"Country\",\"Literacy Rate in 2019\"]\n",
    "\n",
    "print(dfLiteracyFiltered)\n"
   ]
  },
  {
   "cell_type": "code",
   "execution_count": null,
   "id": "5c303572",
   "metadata": {},
   "outputs": [],
   "source": [
    "# Importing Mental Health data set\n",
    "\n",
    "import pandas as pd\n",
    "from pprint import pprint\n",
    "\n",
    "dfMental_Health = pd.read_csv(r\"Mental Health Governance.csv\")\n",
    "dfMental_Health = dfMental_Health.drop(['Year','Year the law was enacted (latest revision)','Publication year of the policy or plan (latest revision)'], axis=1)\n",
    "dfMental_Health = dfMental_Health.reset_index(drop=True)\n",
    "print(dfMental_Health)\n"
   ]
  },
  {
   "cell_type": "code",
   "execution_count": null,
   "id": "65c9b8b4",
   "metadata": {},
   "outputs": [],
   "source": [
    "# Importing Drug_Addiction data set\n",
    "\n",
    "import pandas as pd\n",
    "\n",
    "dfDrugAddiction = pd.read_csv(r\"DrugAddiction.csv\", header=0)\n",
    "dfDrugAddiction=dfDrugAddiction.drop(['Code'], axis=1)\n",
    "\n",
    "dfDrugAddiction.columns = [\"Country\",\"Year\",\"Prevalence - Substance use disorders - Sex: Both - Age: Age-standardized (Percent)\"]\n",
    "\n",
    "print(dfDrugAddiction)"
   ]
  },
  {
   "cell_type": "code",
   "execution_count": null,
   "id": "c3faafe9",
   "metadata": {},
   "outputs": [],
   "source": [
    "#performing pre processing on drug addiction data set\n",
    "\n",
    "dfDrugAddictionFiltered = dfDrugAddiction\n",
    "#eliminating all rows which do not belong to 2019\n",
    "dfDrugAddictionFiltered.drop(dfDrugAddiction[dfDrugAddiction['Year'] != 2019].index, inplace=True)\n",
    "dfDrugAddictionFiltered.reset_index(inplace=True)\n",
    "\n",
    "dfDrugAddictionFiltered = dfDrugAddictionFiltered.drop(dfDrugAddictionFiltered.columns[[0]], axis=1)\n",
    "print(dfDrugAddictionFiltered)\n"
   ]
  },
  {
   "cell_type": "code",
   "execution_count": null,
   "id": "9b98779a",
   "metadata": {},
   "outputs": [],
   "source": [
    "#Importing Facilities data set\n",
    "\n",
    "import pandas as pd\n",
    "from pprint import pprint\n",
    "\n",
    "dfFacilitiesData = pd.read_csv(r\"Facilities Data.csv\", header=0)\n",
    "temp=0\n",
    "k = 0\n",
    "r=dfFacilitiesData.shape[0]\n",
    "dfFacilitiesData['year_diff'] = dfFacilitiesData['Year'] \n",
    "percentage = 0\n",
    "for i in dfFacilitiesData['Country']:\n",
    "    year=dfFacilitiesData['Year']#.astype(int)\n",
    "    percentage = random.randint(-3, 9)\n",
    "    temp=2019-(year[k])\n",
    "    dfFacilitiesData.at[k,'year_diff']=temp\n",
    "    j=0\n",
    "    if(k==r):\n",
    "        break\n",
    "    else:\n",
    "        k=k+1\n",
    "        dfFacilitiesData['New_MentalHospital_count_2019']=dfFacilitiesData['Mental hospitals (per 100 000 population)']\n",
    "        dfFacilitiesData['New_MentalHealthUnits_count_2019']=dfFacilitiesData['Mental health units in general hospitals (per 100 000 population)']\n",
    "        dfFacilitiesData['New_OutpatientFacilities_count_2019']=dfFacilitiesData['Mental health outpatient facilities (per 100 000 population)']\n",
    "        dfFacilitiesData['New_MentalHealthDayTreatmentFacilities_count_2019']=dfFacilitiesData['Mental health day treatment facilities (per 100 000 population)']\n",
    "        dfFacilitiesData['New_CommunityResidentialFacilities_count_2019']=dfFacilitiesData['Community residential facilities (per 100 000 population)']\n",
    "        while j!=temp:\n",
    "\n",
    "        #we are calculating statistics for 2019 using data from other columns\n",
    "        #percentage increase is assumed to range between -3 and 9\n",
    "        #we are including a negative range to take into account that certain countries may show decline in growth\n",
    "        \n",
    "            dfFacilitiesData['New_MentalHospital_count_2019']=dfFacilitiesData['New_MentalHospital_count_2019']+(dfFacilitiesData['New_MentalHospital_count_2019']*(percentage/100))\n",
    "            dfFacilitiesData['New_MentalHealthUnits_count_2019']=dfFacilitiesData['New_MentalHealthUnits_count_2019']+(dfFacilitiesData['New_MentalHealthUnits_count_2019']*(percentage/100))\n",
    "            dfFacilitiesData['New_OutpatientFacilities_count_2019']=dfFacilitiesData['New_OutpatientFacilities_count_2019']+(dfFacilitiesData['New_OutpatientFacilities_count_2019']*(percentage/100))\n",
    "            dfFacilitiesData['New_MentalHealthDayTreatmentFacilities_count_2019']=dfFacilitiesData['New_MentalHealthDayTreatmentFacilities_count_2019']+(dfFacilitiesData['New_MentalHealthDayTreatmentFacilities_count_2019']*(percentage/100))\n",
    "            dfFacilitiesData['New_CommunityResidentialFacilities_count_2019']=dfFacilitiesData['New_CommunityResidentialFacilities_count_2019']+(dfFacilitiesData['New_CommunityResidentialFacilities_count_2019']*(percentage/100))\n",
    "            j=j+1\n",
    "\n",
    "dfFacilitiesData.reset_index(drop=True, inplace=True)\n",
    "print(dfFacilitiesData)"
   ]
  },
  {
   "cell_type": "code",
   "execution_count": null,
   "id": "356c578a",
   "metadata": {
    "scrolled": true
   },
   "outputs": [],
   "source": [
    "#dropping unwanted columns from facilities data set\n",
    "\n",
    "dfFacilitiesDataFiltered = dfFacilitiesData\n",
    "dfFacilitiesDataFiltered = dfFacilitiesDataFiltered.drop(dfFacilitiesDataFiltered.columns[[1,2,3,4,5,6,7]], axis=1)\n",
    "print(dfFacilitiesDataFiltered)"
   ]
  },
  {
   "cell_type": "code",
   "execution_count": null,
   "id": "f9d7b9f9",
   "metadata": {},
   "outputs": [],
   "source": [
    "#performing web scrapping using beautiful soup\n",
    "\n",
    "from bs4 import BeautifulSoup\n",
    "import urllib # We'll still need this to download webpages\n",
    "from pprint import pprint\n",
    "import re\n",
    "\n",
    "\n",
    "html_text = urllib.request.urlopen(\"https://www.worldometers.info/gdp/gdp-by-country//\").read()\n",
    "soup = BeautifulSoup(html_text, 'html.parser')\n",
    "\n",
    "country = []\n",
    "\n",
    "for href_tags in soup.find_all(\"a\",href=True):\n",
    "    #print(href_tags.text)\n",
    "    country.append(href_tags.text)\n",
    "\n",
    "del country[len(country) - 9:]\n",
    "country = country[7:]\n",
    "\n",
    "sample_list = []\n",
    "for td_tags in soup.find_all(\"td\",style=True):\n",
    "    print(td_tags.text)\n",
    "    sample_list.append(td_tags.text)\n",
    "country = sample_list[1::8]\n",
    "\n",
    "gdp_dollar = sample_list[2::8]\n",
    "\n",
    "gdp = [re.sub(r'[^a-zA-Z0-9]','',string) for string in gdp_dollar]\n",
    "gdp=[int(x) for x in gdp]\n",
    "\n",
    "gdp_growth_perc=sample_list[4::8]\n",
    "gdp_growth = [re.sub(r'[^a-zA-Z0-9]','',string) for string in gdp_growth_perc]"
   ]
  },
  {
   "cell_type": "code",
   "execution_count": null,
   "id": "6aeb5448",
   "metadata": {},
   "outputs": [],
   "source": [
    "list_name_country = ['country']\n",
    "dfcountry = pd.DataFrame (country, columns = ['Country'])\n",
    "\n",
    "\n",
    "list_name_country = ['gdp']\n",
    "dfgdp = pd.DataFrame (gdp, columns = ['gdp'])\n",
    "\n",
    "dfGdp = pd.concat([dfcountry, dfgdp], axis=\"columns\")\n",
    "\n",
    "gdp_growth=[int(x) for x in gdp_growth]\n",
    "\n",
    "myInt = 100\n",
    "gdp_growth_float = [x / myInt for x in gdp_growth]\n",
    "list_name_growth_percetage = ['growth percentage']\n",
    "dfgrowth_percetage = pd.DataFrame (gdp_growth_float, columns = ['growth percentage'])\n",
    "dfGdpwithpercent=pd.concat([dfGdp, dfgrowth_percetage], axis=\"columns\")\n",
    "dfGdpwithpercent['Year']=2017\n",
    "print(dfGdpwithpercent)"
   ]
  },
  {
   "cell_type": "code",
   "execution_count": null,
   "id": "ee4806cf",
   "metadata": {},
   "outputs": [],
   "source": [
    "import random\n",
    "from pprint import pprint\n",
    "percentage = 0\n",
    "temp=0\n",
    "k = 0\n",
    "r=dfHumanresoursesdata.shape[0]\n",
    "dfGdpwithpercent['year_diff'] = dfGdpwithpercent['Year'] \n",
    "\n",
    "for i in dfGdpwithpercent['Country']:\n",
    "    year=dfGdpwithpercent['Year']#.astype(int)\n",
    "\n",
    "    temp=2019-(year[k])\n",
    "    dfGdpwithpercent.at[k,'year_diff']=temp\n",
    "  \n",
    "    #dfGdpwithpercent.at[k,'year_diff']=temp\n",
    "    percentage = random.randint(-3, 9)\n",
    "    j=0\n",
    "    if(k==r):\n",
    "        break\n",
    "    else:\n",
    "        k=k+1\n",
    "        dfGdpwithpercent['gdp_2019']=dfGdpwithpercent['gdp']\n",
    "        \n",
    "        while j!=temp:\n",
    "\n",
    "            dfGdpwithpercent['gdp_2019']=dfGdpwithpercent['gdp_2019']+(dfGdpwithpercent['gdp_2019']*(percentage/100))\n",
    "            \n",
    "            j=j+1\n",
    "\n",
    "dfGdpwithpercent.reset_index(drop=True, inplace=True)\n",
    "pprint(dfGdpwithpercent.head(15))"
   ]
  },
  {
   "cell_type": "code",
   "execution_count": null,
   "id": "08824b52",
   "metadata": {},
   "outputs": [],
   "source": [
    "dfGdpwithpercentFiltered = dfGdpwithpercent\n",
    "dfGdpwithpercentFiltered = dfGdpwithpercent.drop(dfGdpwithpercent.columns[[1,3,4]], axis=1)\n",
    "dfGdpwithpercentFiltered.columns = [\"Country\",\"GDP Growth Rate (in %)\",\"GDP (2019)\"]\n",
    "print(dfGdpwithpercentFiltered)\n"
   ]
  },
  {
   "cell_type": "code",
   "execution_count": null,
   "id": "c0f2236e",
   "metadata": {},
   "outputs": [],
   "source": [
    "#converting data sets to csv to draw plots in Tableau\n",
    "\n",
    "dfPopulation.to_excel(\"dfPopulation.xlsx\")\n",
    "dfPopulationFiltered.to_excel(\"dfPopulationFiltered.xlsx\")\n",
    "\n",
    "dfHumanresoursesdata.to_excel(\"dfHumanresoursesdata.xlsx\")\n",
    "dfHumanresoursesdataFiltered.to_excel(\"dfHumanresoursesdataFiltered.xlsx\")\n",
    "\n",
    "dfHappinessindex.to_excel(\"dfHappinessindex.xlsx\")\n",
    "dfHappinessindexFiltered.to_excel(\"dfHappinessindexFiltered.xlsx\")\n",
    "\n",
    "dfLiteracy.to_excel(\"dfLiteracy.xlsx\")\n",
    "dfLiteracyFiltered.to_excel(\"dfLiteracyFiltered.xlsx\")\n",
    "\n",
    "dfDrugAddiction.to_excel(\"dfDrugAddiction.xlsx\")\n",
    "dfDrugAddictionFiltered.to_excel(\"dfDrugAddictionFiltered.xlsx\")\n",
    "\n",
    "dfFacilitiesData.to_excel(\"dfFacilitiesData.xlsx\")\n",
    "dfFacilitiesDataFiltered.to_excel(\"dfFacilitiesDataFiltered.xlsx\")"
   ]
  },
  {
   "cell_type": "code",
   "execution_count": null,
   "id": "77f01b60",
   "metadata": {},
   "outputs": [],
   "source": [
    "#merging all the pre processed datasets \n",
    "\n",
    "merged_df=pd.merge(dfPopulationFiltered,dfHumanresoursesdataFiltered, how = 'outer', on = \"Country\")\n",
    "merged_df = pd.merge(merged_df,dfHappinessindexFiltered, how = 'outer', on = \"Country\")\n",
    "merged_df = pd.merge(merged_df,dfLiteracyFiltered, how = 'outer', on = \"Country\")\n",
    "merged_df = pd.merge(merged_df,dfDrugAddictionFiltered, how = 'outer', on = \"Country\")\n",
    "merged_df = pd.merge(merged_df,dfFacilitiesDataFiltered, how = 'outer', on = \"Country\")\n",
    "merged_df = pd.merge(merged_df,dfMental_Health, how = 'outer', on = \"Country\")\n",
    "print(merged_df)\n"
   ]
  },
  {
   "cell_type": "code",
   "execution_count": null,
   "id": "f90a0e93",
   "metadata": {},
   "outputs": [],
   "source": [
    "#for all the missing values in merged data set, we are populating it with NaN\n",
    "\n",
    "column_headers  = list(merged_df.columns.values) \n",
    "\n",
    "for i in (column_headers):\n",
    "    merged_df[i].fillna(np.nan, inplace = True)\n",
    "    \n",
    "#filling some values values for Year\n",
    "merged_df['Year'].fillna(\"2019\", inplace = True)\n",
    "merged_df = merged_df.drop(merged_df.columns[[0]], axis=1)\n",
    "print(merged_df)"
   ]
  },
  {
   "cell_type": "raw",
   "id": "767a86cc",
   "metadata": {},
   "source": [
    "# coverting the final data set to csv to draw plots\n",
    "\n",
    "merged_df.to_excel(\"Final_merged_dataset.xlsx\")\n",
    "print('DataFrame is written to Excel File successfully.');file_name = 'Final_merged_dataset.xlsx'"
   ]
  }
 ],
 "metadata": {
  "kernelspec": {
   "display_name": "Python 3 (ipykernel)",
   "language": "python",
   "name": "python3"
  },
  "language_info": {
   "codemirror_mode": {
    "name": "ipython",
    "version": 3
   },
   "file_extension": ".py",
   "mimetype": "text/x-python",
   "name": "python",
   "nbconvert_exporter": "python",
   "pygments_lexer": "ipython3",
   "version": "3.11.5"
  }
 },
 "nbformat": 4,
 "nbformat_minor": 5
}
